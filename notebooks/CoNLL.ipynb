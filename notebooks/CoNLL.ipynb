{
 "cells": [
  {
   "cell_type": "code",
   "execution_count": 1,
   "id": "4338656d",
   "metadata": {},
   "outputs": [],
   "source": [
    "import pandas as pd"
   ]
  },
  {
   "cell_type": "markdown",
   "id": "709031b3",
   "metadata": {},
   "source": [
    "### Create the CoNLL File in Python"
   ]
  },
  {
   "cell_type": "code",
   "execution_count": 7,
   "id": "4cd794eb",
   "metadata": {},
   "outputs": [],
   "source": [
    "# Load dataset with tokenized messages\n",
    "df = pd.read_csv(\"../data/tokenized_messages.csv\", encoding=\"utf-8-sig\")\n",
    "\n",
    "# Choose the first 30–50 messages to label\n",
    "subset = df.head(30)\n",
    "\n",
    "# Open file for writing\n",
    "with open(\"../data/ner_labeled_conll.txt\", \"w\", encoding=\"utf-8\") as f:\n",
    "    for tokens in subset['Word_Tokens']:\n",
    "        # Convert string back to list if needed\n",
    "        if isinstance(tokens, str):\n",
    "            tokens = eval(tokens)\n",
    "\n",
    "        for token in tokens:\n",
    "            # 👇 MANUALLY set the correct label here:\n",
    "            label = \"O\"  # Change this as needed: B-Product, I-PRICE, etc.\n",
    "            f.write(f\"{token}\\t{label}\\n\")\n",
    "        f.write(\"\\n\")  # Blank line between messages\n"
   ]
  }
 ],
 "metadata": {
  "kernelspec": {
   "display_name": "venv",
   "language": "python",
   "name": "python3"
  },
  "language_info": {
   "codemirror_mode": {
    "name": "ipython",
    "version": 3
   },
   "file_extension": ".py",
   "mimetype": "text/x-python",
   "name": "python",
   "nbconvert_exporter": "python",
   "pygments_lexer": "ipython3",
   "version": "3.13.5"
  }
 },
 "nbformat": 4,
 "nbformat_minor": 5
}
