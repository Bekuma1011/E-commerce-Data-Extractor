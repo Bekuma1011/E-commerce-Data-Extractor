{
 "cells": [
  {
   "cell_type": "code",
   "execution_count": 1,
   "id": "f51ab692",
   "metadata": {},
   "outputs": [
    {
     "name": "stderr",
     "output_type": "stream",
     "text": [
      "c:\\Users\\bekuman\\Desktop\\E-commerce-Data-Extractor\\venv\\Lib\\site-packages\\tqdm\\auto.py:21: TqdmWarning: IProgress not found. Please update jupyter and ipywidgets. See https://ipywidgets.readthedocs.io/en/stable/user_install.html\n",
      "  from .autonotebook import tqdm as notebook_tqdm\n"
     ]
    }
   ],
   "source": [
    "from transformers import AutoTokenizer, AutoModel\n",
    "import pandas as pd\n",
    "import torch\n",
    "import re"
   ]
  },
  {
   "cell_type": "code",
   "execution_count": 2,
   "id": "8f9bbe31",
   "metadata": {},
   "outputs": [],
   "source": [
    "# Load XLM-Roberta\n",
    "tokenizer = AutoTokenizer.from_pretrained(\"xlm-roberta-base\")\n",
    "model = AutoModel.from_pretrained(\"xlm-roberta-base\")"
   ]
  },
  {
   "cell_type": "code",
   "execution_count": 3,
   "id": "e60bb358",
   "metadata": {},
   "outputs": [],
   "source": [
    "df = pd.read_csv(\"../data/cleaned_message.csv\", encoding=\"utf-8-sig\")\n",
    "messages = df[\"Message\"].astype(str)  # Make sure all are strings\n"
   ]
  },
  {
   "cell_type": "code",
   "execution_count": 5,
   "id": "d8c7be24",
   "metadata": {},
   "outputs": [
    {
     "data": {
      "text/plain": [
       "0       ...................................\\n\\nSaachi ...\n",
       "1       ...................................\\n\\n3pcs Bo...\n",
       "2       ...................................\\n\\n3pcs Bo...\n",
       "3       ...................................\\n\\n1 pairs...\n",
       "4       ...................................\\n\\n1 pairs...\n",
       "                              ...                        \n",
       "1441     :- NIKE  CRAFT \\n\\n ዋጋ :- 3800\\n\\n size :- 40...\n",
       "1442     :- GIRLS  ADIDAS BAD BUNNY \\n\\n ዋጋ :- 3200\\n\\...\n",
       "1443     :- GIRLS  ADIDAS YEEZY BOOST 700 \\n\\n ዋጋ :- 3...\n",
       "1444     :- GIRLS  JORDAN FOUR \\n\\n ዋጋ :- 3500\\n\\n siz...\n",
       "1445     :- GIRLS  JORDAN FOUR COLAB WITH LOUIS VUITTO...\n",
       "Name: Message, Length: 1446, dtype: object"
      ]
     },
     "execution_count": 5,
     "metadata": {},
     "output_type": "execute_result"
    }
   ],
   "source": [
    "messages"
   ]
  },
  {
   "cell_type": "code",
   "execution_count": null,
   "id": "329a2529",
   "metadata": {},
   "outputs": [],
   "source": [
    "# Define a regex-based word cleaner  and Word-level tokenization that splits on space or underscore\n",
    "def word_tokenize(text):\n",
    "    if not isinstance(text, str):\n",
    "        return []\n",
    "\n",
    "    # Split by space or underscore\n",
    "    raw_tokens = re.split(r'[\\s_]+', text.strip())\n",
    "\n",
    "    # Clean each token\n",
    "    tokens = []\n",
    "    for token in raw_tokens:\n",
    "        token = token.strip()\n",
    "        token = re.sub(r'^#+', '', token)             # Remove leading #\n",
    "        # Remove specific punctuation marks including amharic punction mark section mark\n",
    "        token = re.sub(r'[፡።፣፤፥፦]+', '', token)\n",
    "\n",
    "        if re.fullmatch(r'[.\\-–=•·_]+', token):        # Ignore pure punctuation\n",
    "            continue\n",
    "        if token:\n",
    "            tokens.append(token)\n",
    "\n",
    "    return tokens\n",
    "\n",
    "# Apply the tokenizer\n",
    "df['Word_Tokens'] = df['Message'].astype(str).apply(word_tokenize)\n",
    "\n",
    "# Save to CSV\n",
    "df.to_csv(\"../data/tokenized_messages.csv\", index=False, encoding=\"utf-8-sig\")\n"
   ]
  },
  {
   "cell_type": "code",
   "execution_count": 8,
   "id": "aa2c246c",
   "metadata": {},
   "outputs": [
    {
     "data": {
      "text/plain": [
       "0       [Saachi, Electric, Kettle, Borosilicate, Glass...\n",
       "1       [3pcs, Bottle, Stopper, በማንኛውም, ጠርሙስ, ጫፍ, የሚገጠ...\n",
       "2       [3pcs, Bottle, Stopper, በማንኛውም, ጠርሙስ, ጫፍ, የሚገጠ...\n",
       "3       [1, pairs, Sneaker, Crease, Protector, ዋጋ፦, 40...\n",
       "4       [1, pairs, Sneaker, Crease, Protector, ዋጋ፦, 40...\n",
       "                              ...                        \n",
       "1441    [NIKE, CRAFT, ዋጋ, 3800, size, 40,41,42,43,44, ...\n",
       "1442    [GIRLS, ADIDAS, BAD, BUNNY, ዋጋ, 3200, size, 36...\n",
       "1443    [GIRLS, ADIDAS, YEEZY, BOOST, 700, ዋጋ, 3400, s...\n",
       "1444    [GIRLS, JORDAN, FOUR, ዋጋ, 3500, size, 36,37,38...\n",
       "1445    [GIRLS, JORDAN, FOUR, COLAB, WITH, LOUIS, VUIT...\n",
       "Name: Word_Tokens, Length: 1446, dtype: object"
      ]
     },
     "execution_count": 8,
     "metadata": {},
     "output_type": "execute_result"
    }
   ],
   "source": [
    "df['Word_Tokens']"
   ]
  }
 ],
 "metadata": {
  "kernelspec": {
   "display_name": "venv",
   "language": "python",
   "name": "python3"
  },
  "language_info": {
   "codemirror_mode": {
    "name": "ipython",
    "version": 3
   },
   "file_extension": ".py",
   "mimetype": "text/x-python",
   "name": "python",
   "nbconvert_exporter": "python",
   "pygments_lexer": "ipython3",
   "version": "3.13.5"
  }
 },
 "nbformat": 4,
 "nbformat_minor": 5
}
